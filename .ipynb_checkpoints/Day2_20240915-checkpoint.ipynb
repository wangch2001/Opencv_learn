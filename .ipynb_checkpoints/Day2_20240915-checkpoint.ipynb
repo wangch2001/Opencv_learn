{
 "cells": [
  {
   "cell_type": "markdown",
   "id": "a5e9ca71",
   "metadata": {},
   "source": [
    "# 形态学-腐蚀操作"
   ]
  },
  {
   "cell_type": "code",
   "execution_count": 3,
   "id": "87a3cab4",
   "metadata": {},
   "outputs": [],
   "source": [
    "import cv2 #opencv 读取格式为bgr\n",
    "import matplotlib.pyplot as plt\n",
    "import numpy as np\n",
    "%matplotlib inline"
   ]
  },
  {
   "cell_type": "code",
   "execution_count": 4,
   "id": "48417826",
   "metadata": {},
   "outputs": [],
   "source": [
    "img=cv2.imread('dige.png')\n",
    "\n",
    "cv2.imshow('img',img)\n",
    "cv2.waitKey(0)\n",
    "cv2.destroyAllWindows()"
   ]
  },
  {
   "cell_type": "code",
   "execution_count": 5,
   "id": "4d1f81b5",
   "metadata": {},
   "outputs": [],
   "source": [
    "kernel=np.ones((5,5),np.uint8)\n",
    "erosion=cv2.erode(img,kernel,iterations=1)\n",
    "\n",
    "cv2.imshow('erosion',erosion)\n",
    "cv2.waitKey(0)\n",
    "cv2.destroyAllWindows()"
   ]
  },
  {
   "cell_type": "code",
   "execution_count": 6,
   "id": "1065ed00",
   "metadata": {},
   "outputs": [],
   "source": [
    "pie=cv2.imread('pie.png')\n",
    "\n",
    "cv2.imshow('pie',pie)\n",
    "cv2.waitKey(0)\n",
    "cv2.destroyAllWindows()"
   ]
  },
  {
   "cell_type": "code",
   "execution_count": 10,
   "id": "0baa4db3",
   "metadata": {},
   "outputs": [],
   "source": [
    "kernel=np.ones((30,30),np.uint8)\n",
    "erosion_1=cv2.erode(pie,kernel,iterations=1)\n",
    "erosion_2=cv2.erode(pie,kernel,iterations=2)\n",
    "erosion_3=cv2.erode(pie,kernel,iterations=3)\n",
    "res=np.hstack((erosion_1,erosion_2,erosion_3))\n",
    "cv2.imshow('res',res)\n",
    "cv2.waitKey(0)\n",
    "cv2.destroyAllWindows()"
   ]
  },
  {
   "cell_type": "markdown",
   "id": "c8b5c11d",
   "metadata": {},
   "source": [
    "# 形态学-膨胀操作"
   ]
  },
  {
   "cell_type": "code",
   "execution_count": 18,
   "id": "a58ae7cd",
   "metadata": {},
   "outputs": [],
   "source": [
    "img=cv2.imread('dige.png')\n",
    "cv2.imshow('img',img)\n",
    "cv2.waitKey(0)\n",
    "cv2.destroyAllWindows()"
   ]
  },
  {
   "cell_type": "code",
   "execution_count": 21,
   "id": "a7ba721c",
   "metadata": {},
   "outputs": [],
   "source": [
    "kernel=np.ones((3,3),np.uint8)\n",
    "dige_erosion=cv2.erode(img,kernel,iterations=1)\n",
    "\n",
    "cv2.imshow('erosion',erosion)\n",
    "cv2.waitKey(0)\n",
    "cv2.destroyAllWindows()"
   ]
  },
  {
   "cell_type": "code",
   "execution_count": 20,
   "id": "ed3dbc8e",
   "metadata": {},
   "outputs": [],
   "source": [
    "kernel=np.ones((3,3),np.uint8)\n",
    "dige_dilate=cv2.dilate(dige_erosion,kernel,iterations=1)\n",
    "\n",
    "cv2.imshow('dilate',dige_dilate)\n",
    "cv2.waitKey(0)\n",
    "cv2.destroyAllWindows()"
   ]
  },
  {
   "cell_type": "code",
   "execution_count": 24,
   "id": "3bd20e45",
   "metadata": {},
   "outputs": [],
   "source": [
    "pie=cv2.imread('pie.png')\n",
    "\n",
    "kernel=np.ones((30,30),np.uint8)\n",
    "dilate_1=cv2.dilate(pie,kernel,iterations=1)\n",
    "dilate_2=cv2.dilate(pie,kernel,iterations=2)\n",
    "dilate_3=cv2.dilate(pie,kernel,iterations=3)\n",
    "res=np.hstack((dilate_1,dilate_2,dilate_3))\n",
    "cv2.imshow('res',res)\n",
    "cv2.waitKey(0)\n",
    "cv2.destroyAllWindows()"
   ]
  },
  {
   "cell_type": "markdown",
   "id": "ed9c0ef8",
   "metadata": {},
   "source": [
    "# 开运算与闭运算"
   ]
  },
  {
   "cell_type": "code",
   "execution_count": 29,
   "id": "80795865",
   "metadata": {},
   "outputs": [],
   "source": [
    "# 开：先腐蚀，再膨胀\n",
    "img=cv2.imread('dige.png')\n",
    "\n",
    "kernel=np.ones((5,5),np.uint8)\n",
    "opening=cv2.morphologyEx(img,cv2.MORPH_OPEN,kernel)\n",
    "\n",
    "cv2.imshow('opening',opening)\n",
    "cv2.waitKey(0)\n",
    "cv2.destroyAllWindows()"
   ]
  },
  {
   "cell_type": "code",
   "execution_count": 31,
   "id": "b4f4e607",
   "metadata": {},
   "outputs": [],
   "source": [
    "# 闭：先膨胀，后腐蚀\n",
    "img=cv2.imread('dige.png')\n",
    "\n",
    "kernel=np.ones((5,5),np.uint8)\n",
    "closing=cv2.morphologyEx(img,cv2.MORPH_CLOSE,kernel)\n",
    "cv2.imshow('closing',closing)\n",
    "cv2.waitKey(0)\n",
    "cv2.destroyAllWindows()"
   ]
  },
  {
   "cell_type": "markdown",
   "id": "6f1577d1",
   "metadata": {},
   "source": [
    "# 梯度运算"
   ]
  },
  {
   "cell_type": "code",
   "execution_count": 33,
   "id": "1c6878fc",
   "metadata": {},
   "outputs": [],
   "source": [
    "# 梯度=膨胀-腐蚀\n",
    "pie=cv2.imread('pie.png')\n",
    "kernel=np.ones((7,7),np.uint8)\n",
    "dilate=cv2.dilate(pie,kernel,iterations=5)\n",
    "erosion=cv2.erode(pie,kernel,iterations=5)\n",
    "\n",
    "res=np.hstack((dilate,erosion))\n",
    "cv2.imshow('res',res)\n",
    "cv2.waitKey(0)\n",
    "cv2.destroyAllWindows()"
   ]
  },
  {
   "cell_type": "code",
   "execution_count": 35,
   "id": "db14cb15",
   "metadata": {},
   "outputs": [],
   "source": [
    "gradient=cv2.morphologyEx(pie,cv2.MORPH_GRADIENT,kernel)\n",
    "\n",
    "cv2.imshow('gradient',gradient)\n",
    "cv2.waitKey(0)\n",
    "cv2.destroyAllWindows()"
   ]
  },
  {
   "cell_type": "markdown",
   "id": "b76e330c",
   "metadata": {},
   "source": [
    "# 礼帽与黑帽"
   ]
  },
  {
   "cell_type": "code",
   "execution_count": 36,
   "id": "5f1c47a4",
   "metadata": {},
   "outputs": [],
   "source": [
    "# 礼帽\n",
    "img=cv2.imread('dige.png')\n",
    "tophat=cv2.morphologyEx(img,cv2.MORPH_TOPHAT,kernel)\n",
    "cv2.imshow('tophat',tophat)\n",
    "cv2.waitKey(0)\n",
    "cv2.destroyAllWindows()"
   ]
  },
  {
   "cell_type": "code",
   "execution_count": 37,
   "id": "9d8bb887",
   "metadata": {},
   "outputs": [],
   "source": [
    "# 黑帽\n",
    "img=cv2.imread('dige.png')\n",
    "blackhat=cv2.morphologyEx(img,cv2.MORPH_BLACKHAT,kernel)\n",
    "cv2.imshow('blackhat',blackhat)\n",
    "cv2.waitKey(0)\n",
    "cv2.destroyAllWindows()"
   ]
  },
  {
   "cell_type": "markdown",
   "id": "b7828bd8",
   "metadata": {},
   "source": [
    "# 图像梯度-Sobel算子"
   ]
  },
  {
   "cell_type": "code",
   "execution_count": 43,
   "id": "6aeea01c",
   "metadata": {},
   "outputs": [],
   "source": [
    "def cv_show(title,img):\n",
    "    cv2.imshow(title,img)\n",
    "    cv2.waitKey(0)\n",
    "    cv2.destroyAllWindows()"
   ]
  },
  {
   "cell_type": "code",
   "execution_count": 44,
   "id": "2ee6762c",
   "metadata": {},
   "outputs": [],
   "source": [
    "img=cv2.imread('pie.png',cv2.IMREAD_GRAYSCALE)\n",
    "cv_show('img',img)"
   ]
  },
  {
   "cell_type": "markdown",
   "id": "784c2ef2",
   "metadata": {},
   "source": [
    "dst=cv2.Sobel(src,ddepth,dx,dy,ksize)\n",
    "+ ddepth：图像的深度\n",
    "+ dx和dy分别表示水平和竖直方向，dx表示右减左，dy表示下减上\n",
    "+ ksize是Sobel算子的大小"
   ]
  },
  {
   "cell_type": "code",
   "execution_count": 50,
   "id": "4322b3a0",
   "metadata": {},
   "outputs": [],
   "source": [
    "sobelx=cv2.Sobel(img,cv2.CV_64F,1,0,ksize=3)     # cv2.CV_64F表示保留负数结果\n",
    "cv_show('sobelx',sobelx)"
   ]
  },
  {
   "cell_type": "markdown",
   "id": "346466f9",
   "metadata": {},
   "source": [
    "白到黑是正数，黑到白就是负数，所有的负数会被截断为0，所以要求绝对值"
   ]
  },
  {
   "cell_type": "code",
   "execution_count": 51,
   "id": "06d29897",
   "metadata": {},
   "outputs": [],
   "source": [
    "sobelx=cv2.Sobel(img,cv2.CV_64F,1,0,ksize=3)\n",
    "sobelx=cv2.convertScaleAbs(sobelx)\n",
    "cv_show('sobelx',sobelx)"
   ]
  },
  {
   "cell_type": "code",
   "execution_count": 52,
   "id": "05672619",
   "metadata": {},
   "outputs": [],
   "source": [
    "sobely=cv2.Sobel(img,cv2.CV_64F,0,1,ksize=3)\n",
    "sobely=cv2.convertScaleAbs(sobely)\n",
    "cv_show('sobely',sobely)"
   ]
  },
  {
   "cell_type": "markdown",
   "id": "43574e32",
   "metadata": {},
   "source": [
    "# 分别计算x和y，再求和"
   ]
  },
  {
   "cell_type": "code",
   "execution_count": 56,
   "id": "0843b2e4",
   "metadata": {},
   "outputs": [],
   "source": [
    "sobelxy=cv2.addWeighted(sobelx,0.5,sobely,0.5,0)\n",
    "cv_show('sobelxy',sobelxy)"
   ]
  },
  {
   "cell_type": "markdown",
   "id": "866ed34e",
   "metadata": {},
   "source": [
    "不建议直接计算"
   ]
  },
  {
   "cell_type": "code",
   "execution_count": 57,
   "id": "d2bb1e00",
   "metadata": {},
   "outputs": [],
   "source": [
    "sobelxy=cv2.Sobel(img,cv2.CV_64F,1,1,ksize=3)\n",
    "sobelxy=cv2.convertScaleAbs(sobelxy)\n",
    "cv_show('sobelxy',sobelxy)"
   ]
  },
  {
   "cell_type": "markdown",
   "id": "7a3d4c11",
   "metadata": {},
   "source": [
    "# 图像边缘提取"
   ]
  },
  {
   "cell_type": "code",
   "execution_count": 63,
   "id": "dfd4e26e",
   "metadata": {},
   "outputs": [],
   "source": [
    "img=cv2.imread('fig2.png',cv2.IMREAD_GRAYSCALE)\n",
    "sobelx=cv2.Sobel(img,cv2.CV_64F,1,0,ksize=3)\n",
    "sobelx=cv2.convertScaleAbs(sobelx)\n",
    "sobely=cv2.Sobel(img,cv2.CV_64F,0,1,ksize=3)\n",
    "sobely=cv2.convertScaleAbs(sobely)\n",
    "sobelxy=cv2.addWeighted(sobelx,0.5,sobely,0.5,0)\n",
    "cv_show('sobelxy',sobelxy)"
   ]
  },
  {
   "cell_type": "code",
   "execution_count": 65,
   "id": "c83b4f5c",
   "metadata": {},
   "outputs": [],
   "source": [
    "img=cv2.imread('fig2.png',cv2.IMREAD_GRAYSCALE)\n",
    "\n",
    "sobelxy=cv2.addWeighted(sobelx,1,sobely,1,0)\n",
    "cv_show('sobelxy',sobelxy)"
   ]
  },
  {
   "cell_type": "markdown",
   "id": "1dcad746",
   "metadata": {},
   "source": [
    "# 不同算子的差异\n",
    "Sobel、scharr、laplacian"
   ]
  },
  {
   "cell_type": "code",
   "execution_count": 68,
   "id": "6a1edb3a",
   "metadata": {},
   "outputs": [],
   "source": [
    "# 原始图像\n",
    "img=cv2.imread('fig2.png',cv2.IMREAD_GRAYSCALE)\n",
    "cv_show('Origine image',img)\n",
    " \n",
    "# sobel算子  左右，上下对比\n",
    "sobelx=cv2.Sobel(img,cv2.CV_64F,1,0,ksize=3)\n",
    "sobely=cv2.Sobel(img,cv2.CV_64F,0,1,ksize=3)\n",
    "sobelx=cv2.convertScaleAbs(sobelx)\n",
    "sobely=cv2.convertScaleAbs(sobely)\n",
    "sobelxy=cv2.addWeighted(sobelx,0.5,sobely,0.5,0)\n",
    "\n",
    "# scharr算子  包含梯度运算\n",
    "scharrx=cv2.Scharr(img,cv2.CV_64F,1,0)\n",
    "scharry=cv2.Scharr(img,cv2.CV_64F,0,1)\n",
    "scharrx=cv2.convertScaleAbs(scharrx)\n",
    "scharry=cv2.convertScaleAbs(scharry)\n",
    "scharrxy=cv2.addWeighted(scharrx,0.5,scharry,0.5,0)\n",
    "\n",
    "# laplacian算子  与卷积中间像素对比\n",
    "laplacian=cv2.Laplacian(img,cv2.CV_64F)\n",
    "laplacian=cv2.convertScaleAbs(laplacian)\n",
    "\n",
    "res=np.hstack((img,sobelxy,scharrxy,laplacian))\n",
    "cv_show(\"res\",res)"
   ]
  },
  {
   "cell_type": "markdown",
   "id": "04a708ba",
   "metadata": {},
   "source": [
    "# 图像平滑处理"
   ]
  },
  {
   "cell_type": "code",
   "execution_count": 69,
   "id": "15f4acf8",
   "metadata": {},
   "outputs": [],
   "source": [
    "# 读取图片\n",
    "img=cv2.imread('fig2.png')\n",
    "cv_show('img',img)"
   ]
  },
  {
   "cell_type": "code",
   "execution_count": 70,
   "id": "2a9482bb",
   "metadata": {},
   "outputs": [],
   "source": [
    "# 均值滤波\n",
    "# 简单的平均卷积操作\n",
    "blur=cv2.blur(img,(3,3))\n",
    "cv_show('blur',blur)"
   ]
  },
  {
   "cell_type": "code",
   "execution_count": 72,
   "id": "34f73538",
   "metadata": {},
   "outputs": [],
   "source": [
    "# 方框滤波\n",
    "# 基本和均值一样，可以选择是否归一化\n",
    "box=cv2.boxFilter(img,-1,(3,3),normalize=True)  # normalize 为是否归一化\n",
    "cv_show('box',box)"
   ]
  },
  {
   "cell_type": "code",
   "execution_count": 73,
   "id": "b1e7c253",
   "metadata": {},
   "outputs": [],
   "source": [
    "# 高斯滤波\n",
    "# 高斯模糊的卷积核里的数值是满足高斯分布，相当于更重视中间的\n",
    "aussian=cv2.GaussianBlur(img,(5,5),1)\n",
    "cv_show('aussian',aussian)"
   ]
  },
  {
   "cell_type": "code",
   "execution_count": 74,
   "id": "a4cf5c4b",
   "metadata": {},
   "outputs": [],
   "source": [
    "# 中值滤波\n",
    "# 相当于用中值代替\n",
    "median=cv2.medianBlur(img,5)\n",
    "cv_show('median',median)"
   ]
  },
  {
   "cell_type": "code",
   "execution_count": 75,
   "id": "40c5591c",
   "metadata": {},
   "outputs": [],
   "source": [
    "# 展示所有\n",
    "res=np.hstack((img,blur,aussian,median))\n",
    "cv_show('total',res)"
   ]
  },
  {
   "cell_type": "markdown",
   "id": "5826a08a",
   "metadata": {},
   "source": [
    "# 图像阈值\n",
    "**res,dst=cv2.threshold(src,thresh,maxval,type)**\n",
    "+ src：输入图，只能输入单通道图像，通常来说是灰度图\n",
    "+ dst：输出图\n",
    "+ thresh：阈值 一般为127\n",
    "+ maxval：当像素值超过了阈值（或者小于阈值，根据type来决定），所赋予的值\n",
    "+ type：二值化操作的类型，包含以下5种：\n",
    "    1. cv2.THRESH_BINARY 超过阈值的部分取maxval（最大值），否则为0\n",
    "    2. cv2.THRESH_BINARY_INV THRESH_BINARY的反转\n",
    "    3. cv2.THRESH_TRUNC 大于阈值部分设为阈值，否则不变\n",
    "    4. cv2.THRESH_TOZERO 大于阈值的部分不改变，否则设为0\n",
    "    5. cv2.THRESH_TOZERO_INV THRESH_TOZERO的反转"
   ]
  },
  {
   "cell_type": "code",
   "execution_count": 81,
   "id": "3f88e133",
   "metadata": {},
   "outputs": [
    {
     "data": {
      "image/png": "[encoded data removed]",
      "text/plain": [
       "<Figure size 432x288 with 6 Axes>"
      ]
     },
     "metadata": {},
     "output_type": "display_data"
    }
   ],
   "source": [
    "img_gray=cv2.imread('fig2.png',cv2.IMREAD_GRAYSCALE)\n",
    "\n",
    "ret,thresh1=cv2.threshold(img_gray,127,255,cv2.THRESH_BINARY)\n",
    "ret,thresh2=cv2.threshold(img_gray,127,255,cv2.THRESH_BINARY_INV)\n",
    "ret,thresh3=cv2.threshold(img_gray,127,255,cv2.THRESH_TRUNC)\n",
    "ret,thresh4=cv2.threshold(img_gray,127,255,cv2.THRESH_TOZERO)\n",
    "ret,thresh5=cv2.threshold(img_gray,127,255,cv2.THRESH_TOZERO_INV)\n",
    "\n",
    "titles=['Original Image','BINARY','BINARY_INV','TRUNC','TOZERO','TOZERO_INV']\n",
    "images=[img_gray,thresh1,thresh2,thresh3,thresh4,thresh5]\n",
    "\n",
    "for i in range(6):\n",
    "    plt.subplot(2,3,i+1)\n",
    "    plt.imshow(images[i],'gray')\n",
    "    plt.title(titles[i])\n",
    "    plt.xticks([])\n",
    "    plt.yticks([])\n",
    "plt.show()"
   ]
  },
  {
   "cell_type": "code",
   "execution_count": null,
   "id": "7389cf46",
   "metadata": {},
   "outputs": [],
   "source": []
  }
 ],
 "metadata": {
  "kernelspec": {
   "display_name": "Python 3 (ipykernel)",
   "language": "python",
   "name": "python3"
  },
  "language_info": {
   "codemirror_mode": {
    "name": "ipython",
    "version": 3
   },
   "file_extension": ".py",
   "mimetype": "text/x-python",
   "name": "python",
   "nbconvert_exporter": "python",
   "pygments_lexer": "ipython3",
   "version": "3.9.7"
  }
 },
 "nbformat": 4,
 "nbformat_minor": 5
}
